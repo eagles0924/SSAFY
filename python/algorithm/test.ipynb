{
 "cells": [
  {
   "cell_type": "code",
   "execution_count": 4,
   "id": "518d279d",
   "metadata": {},
   "outputs": [],
   "source": [
    "import numpy as np"
   ]
  },
  {
   "cell_type": "code",
   "execution_count": null,
   "id": "94388e7d",
   "metadata": {},
   "outputs": [],
   "source": [
    "test_num = int(inpit())\n",
    "\n",
    "for t in range(test_num):\n",
    "    n = int(input())\n",
    "    a,b,c = map(int, input().split())\n",
    "    d,e,f = map(int, input().split())\n",
    "    x,y,z = map(int, input().split())\n",
    "\n",
    "    matrix = np.array([[1,2,3],[4,5,6],[7,8,9]])\n",
    "\n",
    "\n",
    "\n",
    "    print(f\"#{t+1}\")\n",
    "    print()"
   ]
  },
  {
   "cell_type": "code",
   "execution_count": 12,
   "id": "d92857d5",
   "metadata": {},
   "outputs": [
    {
     "data": {
      "text/plain": [
       "(3, 3)"
      ]
     },
     "execution_count": 12,
     "metadata": {},
     "output_type": "execute_result"
    }
   ],
   "source": [
    "np.array([[1,2,3],[4,5,6],[7,8,9]]).shape"
   ]
  },
  {
   "cell_type": "code",
   "execution_count": 8,
   "id": "9254ed75",
   "metadata": {},
   "outputs": [
    {
     "name": "stdout",
     "output_type": "stream",
     "text": [
      "1\n"
     ]
    }
   ],
   "source": [
    "a = 'leveal'\n",
    "n = 0\n",
    "for i in range(i//2):\n",
    "    if a[i] == a[-i]:\n",
    "        pass\n",
    "    else:\n",
    "        print(0)\n",
    "        break\n",
    "print(1)"
   ]
  },
  {
   "cell_type": "markdown",
   "id": "d1c6b1de",
   "metadata": {},
   "source": [
    "### 1208. Flatten"
   ]
  },
  {
   "cell_type": "code",
   "execution_count": null,
   "id": "f78a0e9a",
   "metadata": {},
   "outputs": [],
   "source": [
    "test_num = 1\n",
    "\n",
    "for t in range(test_num):\n",
    "    height = list(map(int, input().split()))\n",
    "\n",
    "    height\n"
   ]
  },
  {
   "cell_type": "code",
   "execution_count": 12,
   "id": "abcd7d72",
   "metadata": {},
   "outputs": [
    {
     "ename": "ValueError",
     "evalue": "Calling nonzero on 0d arrays is not allowed. Use np.atleast_1d(scalar).nonzero() instead.",
     "output_type": "error",
     "traceback": [
      "\u001b[31m---------------------------------------------------------------------------\u001b[39m",
      "\u001b[31mValueError\u001b[39m                                Traceback (most recent call last)",
      "\u001b[36mCell\u001b[39m\u001b[36m \u001b[39m\u001b[32mIn[12]\u001b[39m\u001b[32m, line 2\u001b[39m\n\u001b[32m      1\u001b[39m \u001b[38;5;28;01mimport\u001b[39;00m\u001b[38;5;250m \u001b[39m\u001b[34;01mnumpy\u001b[39;00m\u001b[38;5;250m \u001b[39m\u001b[38;5;28;01mas\u001b[39;00m\u001b[38;5;250m \u001b[39m\u001b[34;01mnp\u001b[39;00m\n\u001b[32m----> \u001b[39m\u001b[32m2\u001b[39m \u001b[43mnp\u001b[49m\u001b[43m.\u001b[49m\u001b[43mwhere\u001b[49m\u001b[43m(\u001b[49m\u001b[38;5;28;43mmax\u001b[39;49m\u001b[43m(\u001b[49m\u001b[43mheight\u001b[49m\u001b[43m)\u001b[49m\u001b[43m)\u001b[49m\n",
      "\u001b[31mValueError\u001b[39m: Calling nonzero on 0d arrays is not allowed. Use np.atleast_1d(scalar).nonzero() instead."
     ]
    }
   ],
   "source": [
    "import numpy as np\n",
    "np.where(max(height))"
   ]
  },
  {
   "cell_type": "code",
   "execution_count": null,
   "id": "969da73b",
   "metadata": {},
   "outputs": [],
   "source": []
  },
  {
   "cell_type": "markdown",
   "id": "e9b1579e",
   "metadata": {},
   "source": [
    "### 파리"
   ]
  },
  {
   "cell_type": "code",
   "execution_count": null,
   "id": "16302bca",
   "metadata": {},
   "outputs": [],
   "source": [
    "test_num = int(input())\n",
    "\n",
    "def sum_cross(ma,n):\n",
    "    s = 0\n",
    "    best = 0\n",
    "    for i in range(n):\n",
    "        s += ma[i].sum()\n",
    "        for j in range(n):\n",
    "            s += ma.T[j].sum()\n",
    "            best = max(s, best)\n",
    "    return best\n",
    "\n",
    "\n",
    "def sum_x(n):\n",
    "    sum = 0\n",
    "    for i in range(len(n)):\n",
    "        for j in range(len(n)):\n",
    "            sum += n[i]\n",
    "    return sum\n",
    "\n",
    "def make_matrix(n):\n",
    "    ma = []\n",
    "    for i in range(2):\n",
    "        new = list(map(int, input().split()))\n",
    "        ma.append(new)\n",
    "    return np.array(ma)\n",
    "\n",
    "for t in range(test_num):\n",
    "    n,m = map(int, input().split())\n",
    "    ma = make_matrix(n)\n",
    "    \n",
    "    sum1 = sum_cross(n)\n",
    "    sum2 = sum_x(n)\n",
    "    best = 0\n",
    "    best = max(sum1,sum2,best)"
   ]
  },
  {
   "cell_type": "code",
   "execution_count": null,
   "id": "9319c44e",
   "metadata": {},
   "outputs": [],
   "source": [
    "cross_x = [1,0,-1,0]\n",
    "cross_y = [0,-1,0,1]"
   ]
  }
 ],
 "metadata": {
  "kernelspec": {
   "display_name": "Python 3",
   "language": "python",
   "name": "python3"
  },
  "language_info": {
   "codemirror_mode": {
    "name": "ipython",
    "version": 3
   },
   "file_extension": ".py",
   "mimetype": "text/x-python",
   "name": "python",
   "nbconvert_exporter": "python",
   "pygments_lexer": "ipython3",
   "version": "3.11.9"
  }
 },
 "nbformat": 4,
 "nbformat_minor": 5
}
