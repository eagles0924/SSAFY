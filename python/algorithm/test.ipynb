{
 "cells": [
  {
   "cell_type": "code",
   "execution_count": 1,
   "id": "518d279d",
   "metadata": {},
   "outputs": [],
   "source": [
    "import numpy as np"
   ]
  },
  {
   "cell_type": "code",
   "execution_count": 6,
   "id": "94388e7d",
   "metadata": {},
   "outputs": [
    {
     "name": "stdout",
     "output_type": "stream",
     "text": [
      "#1\n",
      "\n"
     ]
    }
   ],
   "source": [
    "test_num = int(input())\n",
    "\n",
    "for t in range(test_num):\n",
    "    n = int(input())\n",
    "    a,b,c = map(int, input().split())\n",
    "    d,e,f = map(int, input().split())\n",
    "    x,y,z = map(int, input().split())\n",
    "\n",
    "    matrix = np.array([[1,2,3],[4,5,6],[7,8,9]])\n",
    "\n",
    "\n",
    "\n",
    "    print(f\"#{t+1}\")\n",
    "    print()"
   ]
  },
  {
   "cell_type": "code",
   "execution_count": 12,
   "id": "d92857d5",
   "metadata": {},
   "outputs": [
    {
     "data": {
      "text/plain": [
       "(3, 3)"
      ]
     },
     "execution_count": 12,
     "metadata": {},
     "output_type": "execute_result"
    }
   ],
   "source": [
    "np.array([[1,2,3],[4,5,6],[7,8,9]]).shape"
   ]
  },
  {
   "cell_type": "code",
   "execution_count": 8,
   "id": "9254ed75",
   "metadata": {},
   "outputs": [
    {
     "name": "stdout",
     "output_type": "stream",
     "text": [
      "1\n"
     ]
    }
   ],
   "source": [
    "a = 'leveal'\n",
    "n = 0\n",
    "for i in range(i//2):\n",
    "    if a[i] == a[-i]:\n",
    "        pass\n",
    "    else:\n",
    "        print(0)\n",
    "        break\n",
    "print(1)"
   ]
  },
  {
   "cell_type": "markdown",
   "id": "d1c6b1de",
   "metadata": {},
   "source": [
    "### 1208. Flatten"
   ]
  },
  {
   "cell_type": "code",
   "execution_count": null,
   "id": "f78a0e9a",
   "metadata": {},
   "outputs": [],
   "source": [
    "test_num = 1\n",
    "\n",
    "for t in range(test_num):\n",
    "    height = list(map(int, input().split()))\n",
    "\n",
    "    height\n"
   ]
  },
  {
   "cell_type": "code",
   "execution_count": 12,
   "id": "abcd7d72",
   "metadata": {},
   "outputs": [
    {
     "ename": "ValueError",
     "evalue": "Calling nonzero on 0d arrays is not allowed. Use np.atleast_1d(scalar).nonzero() instead.",
     "output_type": "error",
     "traceback": [
      "\u001b[31m---------------------------------------------------------------------------\u001b[39m",
      "\u001b[31mValueError\u001b[39m                                Traceback (most recent call last)",
      "\u001b[36mCell\u001b[39m\u001b[36m \u001b[39m\u001b[32mIn[12]\u001b[39m\u001b[32m, line 2\u001b[39m\n\u001b[32m      1\u001b[39m \u001b[38;5;28;01mimport\u001b[39;00m\u001b[38;5;250m \u001b[39m\u001b[34;01mnumpy\u001b[39;00m\u001b[38;5;250m \u001b[39m\u001b[38;5;28;01mas\u001b[39;00m\u001b[38;5;250m \u001b[39m\u001b[34;01mnp\u001b[39;00m\n\u001b[32m----> \u001b[39m\u001b[32m2\u001b[39m \u001b[43mnp\u001b[49m\u001b[43m.\u001b[49m\u001b[43mwhere\u001b[49m\u001b[43m(\u001b[49m\u001b[38;5;28;43mmax\u001b[39;49m\u001b[43m(\u001b[49m\u001b[43mheight\u001b[49m\u001b[43m)\u001b[49m\u001b[43m)\u001b[49m\n",
      "\u001b[31mValueError\u001b[39m: Calling nonzero on 0d arrays is not allowed. Use np.atleast_1d(scalar).nonzero() instead."
     ]
    }
   ],
   "source": [
    "import numpy as np\n",
    "np.where(max(height))"
   ]
  },
  {
   "cell_type": "code",
   "execution_count": null,
   "id": "969da73b",
   "metadata": {},
   "outputs": [],
   "source": []
  },
  {
   "cell_type": "markdown",
   "id": "e9b1579e",
   "metadata": {},
   "source": [
    "### 중 2. - 파리 퇴치"
   ]
  },
  {
   "cell_type": "code",
   "execution_count": null,
   "id": "16302bca",
   "metadata": {},
   "outputs": [],
   "source": [
    "test_num = int(input())\n",
    "\n",
    "def sum_cross(ma,n):\n",
    "    s = 0\n",
    "    best = 0\n",
    "    for i in range(n):\n",
    "        s += ma[i].sum()\n",
    "        for j in range(n):\n",
    "            s += ma.T[j].sum()\n",
    "            best = max(s, best)\n",
    "    return best\n",
    "\n",
    "\n",
    "def sum_x(n):\n",
    "    sum = 0\n",
    "    for i in range(len(n)):\n",
    "        for j in range(len(n)):\n",
    "            sum += n[i]\n",
    "    return sum\n",
    "\n",
    "def make_matrix(n):\n",
    "    ma = []\n",
    "    for i in range(2):\n",
    "        new = list(map(int, input().split()))\n",
    "        ma.append(new)\n",
    "    return np.array(ma)\n",
    "\n",
    "for t in range(test_num):\n",
    "    n,m = map(int, input().split())\n",
    "    ma = make_matrix(n)\n",
    "    \n",
    "    sum1 = sum_cross(n)\n",
    "    sum2 = sum_x(n)\n",
    "    best = 0\n",
    "    best = max(sum1,sum2,best)"
   ]
  },
  {
   "cell_type": "code",
   "execution_count": null,
   "id": "41c391d5",
   "metadata": {},
   "outputs": [
    {
     "name": "stdout",
     "output_type": "stream",
     "text": [
      "#0 89\n",
      "#1 209\n"
     ]
    }
   ],
   "source": [
    "import numpy as np\n",
    "\n",
    "test_case = int(input())\n",
    "\n",
    "cdx = [1,0,-1,0]\n",
    "cdy = [0,-1,0,1]\n",
    "xdx = [1,1,-1,-1]\n",
    "xdy = [1,-1,-1,1]\n",
    "\n",
    "for t in range(test_case):\n",
    "    N, M = map(int, input().split())\n",
    "    box = [list(map(int, input().split())) for _ in range(N)]\n",
    "\n",
    "    fly = 0\n",
    "    \n",
    "    \n",
    "\n",
    "    print(f\"#{t+1} {best}\")"
   ]
  },
  {
   "cell_type": "code",
   "execution_count": 11,
   "id": "1b9592e3",
   "metadata": {},
   "outputs": [
    {
     "name": "stdout",
     "output_type": "stream",
     "text": [
      "617\n",
      "617\n"
     ]
    }
   ],
   "source": [
    "box = [[1, 3, 5], [6, 1, 7], [12, 4, 0]]\n",
    "print(''.join(map(str, box[1])))\n",
    "print(*box[1], sep='')"
   ]
  },
  {
   "cell_type": "markdown",
   "id": "21824ba8",
   "metadata": {},
   "source": [
    "### 중 - 3. 숫자 배열 회전 (회전변환)"
   ]
  },
  {
   "cell_type": "code",
   "execution_count": 44,
   "id": "64f1d93d",
   "metadata": {},
   "outputs": [
    {
     "name": "stdout",
     "output_type": "stream",
     "text": [
      "#1\n",
      "741 987 369\n",
      "852 654 258\n",
      "963 321 147\n",
      "#2\n",
      "872686 679398 558496\n",
      "952899 979157 069877\n",
      "317594 487722 724799\n",
      "997427 894586 495713\n",
      "778960 562998 998259\n",
      "694855 507496 686278\n"
     ]
    }
   ],
   "source": [
    "test_case = int(input())\n",
    "\n",
    "def rotation(N,mat):\n",
    "    mat_new = [[0 for _ in range(N)] for _ in range(N)]\n",
    "    for x in range(N):\n",
    "        for y in range(N):\n",
    "            mat_new[x][y] = mat[y][N-1-x]\n",
    "    return mat_new\n",
    "\n",
    "for t in range(test_case):\n",
    "    N = int(input())\n",
    "    mat = [list(map(int, input().split())) for _ in range(N)]\n",
    "    #90도 회전\n",
    "    mat90 = rotation(N,mat)\n",
    "    mat180 = rotation(N,mat90)\n",
    "    mat270 = rotation(N,mat180)\n",
    "    print(f\"#{t+1}\")\n",
    "    for n in range(N):\n",
    "        print(f\"{''.join(map(str, mat270[n]))} {''.join(map(str, mat180[n]))} {''.join(map(str, mat90[n]))}\")"
   ]
  },
  {
   "cell_type": "markdown",
   "id": "53f58c4c",
   "metadata": {},
   "source": [
    "### 상 1. 장훈이의 높은 선반"
   ]
  },
  {
   "cell_type": "code",
   "execution_count": null,
   "id": "13d618d8",
   "metadata": {},
   "outputs": [],
   "source": [
    "B = 200\n",
    "total_height_list = []\n",
    "ans_height_list = [h for h in total_height_list if h > B]"
   ]
  },
  {
   "cell_type": "markdown",
   "id": "1f267146",
   "metadata": {},
   "source": [
    "점원은 최대 20명, 한 명당 최대 키는 10,000이므로 모두 최댓값으로 연산을 해도 200,000"
   ]
  },
  {
   "cell_type": "code",
   "execution_count": null,
   "id": "0fa2226d",
   "metadata": {},
   "outputs": [],
   "source": [
    "test_case = int(input())\n",
    "for t in range(test_case):\n",
    "    N, B = map(int, input().split())\n",
    "    height_list = list(map(int, input().split()))\n",
    "\n",
    "    for n in range(N):\n",
    "        \n",
    "\n",
    "\n",
    "\n",
    "total_height_list\n",
    "ans_height_list.sort()\n",
    "ans = ans_height_list[0]-B\n",
    "print(f\"#{1} ans\")"
   ]
  },
  {
   "cell_type": "code",
   "execution_count": 8,
   "id": "09d2eb40",
   "metadata": {},
   "outputs": [
    {
     "data": {
      "text/plain": [
       "[0, 1, 2, 3, 4, 5, 6, 7, 9]"
      ]
     },
     "execution_count": 8,
     "metadata": {},
     "output_type": "execute_result"
    }
   ],
   "source": [
    "a = [i for i in range(10)]\n",
    "a.pop(8)\n",
    "a"
   ]
  },
  {
   "cell_type": "code",
   "execution_count": null,
   "id": "f07ddc4b",
   "metadata": {},
   "outputs": [],
   "source": [
    "from itertools import combinations\n",
    "\n"
   ]
  },
  {
   "cell_type": "code",
   "execution_count": null,
   "id": "81b24a06",
   "metadata": {},
   "outputs": [],
   "source": []
  }
 ],
 "metadata": {
  "kernelspec": {
   "display_name": "Python 3",
   "language": "python",
   "name": "python3"
  },
  "language_info": {
   "codemirror_mode": {
    "name": "ipython",
    "version": 3
   },
   "file_extension": ".py",
   "mimetype": "text/x-python",
   "name": "python",
   "nbconvert_exporter": "python",
   "pygments_lexer": "ipython3",
   "version": "3.11.9"
  }
 },
 "nbformat": 4,
 "nbformat_minor": 5
}
