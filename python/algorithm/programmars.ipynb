{
 "cells": [
  {
   "cell_type": "markdown",
   "id": "571f9b2f",
   "metadata": {},
   "source": [
    "# Lv 0"
   ]
  },
  {
   "cell_type": "markdown",
   "id": "34fe55a1",
   "metadata": {},
   "source": [
    "### 옹알이\n",
    "\n",
    "https://school.programmers.co.kr/learn/courses/30/lessons/120956"
   ]
  },
  {
   "cell_type": "code",
   "execution_count": 58,
   "id": "95c33b62",
   "metadata": {},
   "outputs": [
    {
     "name": "stdout",
     "output_type": "stream",
     "text": [
      "# ayaye aya\n",
      "_ye\n",
      "# _ye ye\n",
      "__\n",
      "# __ woo\n",
      "# __ ma\n",
      "# uuuma aya\n",
      "# uuuma ye\n",
      "# uuuma woo\n",
      "# uuuma ma\n",
      "uuu_\n",
      "# ye aya\n",
      "# ye ye\n",
      "_\n",
      "# _ woo\n",
      "# _ ma\n",
      "# yemawoo aya\n",
      "# yemawoo ye\n",
      "_mawoo\n",
      "# _mawoo woo\n",
      "_ma_\n",
      "# _ma_ ma\n",
      "___\n",
      "# ayaa aya\n",
      "_a\n",
      "# _a ye\n",
      "# _a woo\n",
      "# _a ma\n",
      "# yemaye aya\n",
      "# yemaye ye\n",
      "_ma_\n",
      "# _ma_ woo\n",
      "# _ma_ ma\n",
      "___\n"
     ]
    }
   ],
   "source": [
    "can_tell = ['aya','ye','woo','ma']\n",
    "babbling = [\"ayaye\", \"uuuma\", \"ye\", \"yemawoo\", \"ayaa\", \"yemaye\"]\n",
    "cnt=0\n",
    "for word in babbling:\n",
    "    for ong in can_tell:\n",
    "        print('#',word, ong)\n",
    "        if ong in word:\n",
    "            # 해당 문자열 지워\n",
    "            word = word.replace(ong,'_')\n",
    "            print(word)\n",
    "    word = word.replace('_','')\n",
    "    if len(word) == 0:\n",
    "        cnt += 1"
   ]
  },
  {
   "cell_type": "markdown",
   "id": "f0e6b433",
   "metadata": {},
   "source": [
    "다른 사람 답안"
   ]
  },
  {
   "cell_type": "code",
   "execution_count": null,
   "id": "ff2d72f3",
   "metadata": {},
   "outputs": [
    {
     "data": {
      "text/plain": [
       "3"
      ]
     },
     "execution_count": 51,
     "metadata": {},
     "output_type": "execute_result"
    }
   ],
   "source": [
    "import re\n",
    "\n",
    "def solution(babbling):\n",
    "    regex = re.compile('^(aya|ye|woo|ma)+$')\n",
    "    print(regex)\n",
    "    cnt = 0\n",
    "    for e in babbling:\n",
    "        if regex.match(e):\n",
    "            cnt += 1\n",
    "    return cnt"
   ]
  },
  {
   "cell_type": "markdown",
   "id": "44fb47dd",
   "metadata": {},
   "source": [
    "### 다음에 올 숫자\n",
    "\n",
    "https://school.programmers.co.kr/learn/courses/30/lessons/120924"
   ]
  },
  {
   "cell_type": "code",
   "execution_count": 62,
   "id": "165fec36",
   "metadata": {},
   "outputs": [
    {
     "data": {
      "text/plain": [
       "16"
      ]
     },
     "execution_count": 62,
     "metadata": {},
     "output_type": "execute_result"
    }
   ],
   "source": [
    "common = [2, 4, 8]\n",
    "\n",
    "minus_1 = common[-1] - common[-2]\n",
    "minus_2 = common[-2] - common[-3]\n",
    "divide_1 = common[-1] / common[-2]\n",
    "divide_2 = common[-2] / common[-3]\n",
    "\n",
    "if minus_1 == minus_2:\n",
    "    answer = common[-1] + minus_1\n",
    "elif divide_1 == divide_2:\n",
    "    answer = common[-1] * divide_1\n",
    "int(answer)"
   ]
  },
  {
   "cell_type": "code",
   "execution_count": null,
   "id": "2c887eb0",
   "metadata": {},
   "outputs": [],
   "source": [
    "common = []\n",
    "\n",
    "def solution(common):\n",
    "    minus_1 = common[-1] - common[-2]\n",
    "    minus_2 = common[-2] - common[-3]\n",
    "    # 분모가 0이 되는 경우는 계산에서 오류가 날 것임. (등차수열에서 중간에 0이 끼는 경우)\n",
    "    try:\n",
    "        divide_1 = common[-1] / common[-2]\n",
    "        divide_2 = common[-2] / common[-3]\n",
    "    except:\n",
    "        pass\n",
    "    if minus_1 == minus_2:\n",
    "        answer = common[-1] + minus_1\n",
    "    elif divide_1 == divide_2:\n",
    "        answer = common[-1] * divide_1\n",
    "    return int(answer)"
   ]
  },
  {
   "cell_type": "code",
   "execution_count": 88,
   "id": "6a6c317a",
   "metadata": {},
   "outputs": [
    {
     "name": "stdout",
     "output_type": "stream",
     "text": [
      "1 2 3\n"
     ]
    }
   ],
   "source": [
    "################### 변수 선언을 이렇게 할 수도 있다!!!\n",
    "\n",
    "a, b, c = [1, 2, 3]\n",
    "print(a, b, c)"
   ]
  },
  {
   "cell_type": "code",
   "execution_count": null,
   "id": "562d5f2b",
   "metadata": {},
   "outputs": [],
   "source": [
    "if 0"
   ]
  },
  {
   "cell_type": "markdown",
   "id": "3ee0557e",
   "metadata": {},
   "source": [
    "### 연속된 수의 합\n",
    "\n",
    "https://school.programmers.co.kr/learn/courses/30/lessons/120923"
   ]
  },
  {
   "cell_type": "code",
   "execution_count": 85,
   "id": "6401d401",
   "metadata": {},
   "outputs": [
    {
     "data": {
      "text/plain": [
       "[2, 3, 4, 5]"
      ]
     },
     "execution_count": 85,
     "metadata": {},
     "output_type": "execute_result"
    }
   ],
   "source": [
    "num = 4\n",
    "total = 14\n",
    "answer = []\n",
    "median = int(total // num)\n",
    "if num % 2 != 0:\n",
    "    for i in range(1,num//2+1):\n",
    "        answer.append(median + i)\n",
    "        answer.append(median - i)\n",
    "    answer.append(median)\n",
    "    answer.sort()\n",
    "if num % 2 == 0:\n",
    "    for i in range(1,num//2):\n",
    "        answer.append(median + i)\n",
    "        answer.append(median - i)\n",
    "    answer.append(median)\n",
    "    answer.sort()\n",
    "    answer.append(answer[-1]+1)\n",
    "answer"
   ]
  },
  {
   "cell_type": "code",
   "execution_count": null,
   "id": "629a2d15",
   "metadata": {},
   "outputs": [
    {
     "data": {
      "text/plain": [
       "3.0"
      ]
     },
     "execution_count": 71,
     "metadata": {},
     "output_type": "execute_result"
    }
   ],
   "source": [
    "int(14//4)"
   ]
  },
  {
   "cell_type": "markdown",
   "id": "684ee060",
   "metadata": {},
   "source": [
    "### 종이 자르기\n",
    "\n",
    "https://school.programmers.co.kr/learn/courses/30/lessons/120922"
   ]
  },
  {
   "cell_type": "code",
   "execution_count": null,
   "id": "404133cd",
   "metadata": {},
   "outputs": [],
   "source": [
    "m, n = map(int, input())\n",
    "if (m == 1) and (n == 1):\n",
    "    answer = 0\n",
    "else:\n",
    "    answer = m * n - 1"
   ]
  },
  {
   "cell_type": "markdown",
   "id": "e3a0c337",
   "metadata": {},
   "source": [
    "### 평행\n",
    "\n",
    "## **다시 풀기 & 다른 코드 참조**\n",
    "\n",
    "https://school.programmers.co.kr/learn/courses/30/lessons/120875"
   ]
  },
  {
   "cell_type": "code",
   "execution_count": 15,
   "id": "1c6bda57",
   "metadata": {},
   "outputs": [
    {
     "data": {
      "text/plain": [
       "0"
      ]
     },
     "execution_count": 15,
     "metadata": {},
     "output_type": "execute_result"
    }
   ],
   "source": [
    "dots = [[3, 5], [4, 1], [2, 4], [5, 10]]\n",
    "\n",
    "for i, x in enumerate(dots):\n",
    "    left = dots[0]\n",
    "    right = dots[0]\n",
    "    if x[0] < left[0]:\n",
    "        left = x\n",
    "    else:   # x[0] > right[0]\n",
    "        right = x\n",
    "mid = []\n",
    "for dot in dots:\n",
    "    if dot not in [left,right]:\n",
    "        mid.append(dot)\n",
    "m1, m2 = mid\n",
    "\n",
    "slope1 = abs((left[1]-m1[1])/(left[0]-m1[0]))\n",
    "slope2 = abs((right[1]-m2[1])/(right[0]-m2[0]))\n",
    "\n",
    "if slope1 == slope2:\n",
    "    answer = 1\n",
    "else:\n",
    "    answer = 0\n",
    "answer"
   ]
  },
  {
   "cell_type": "code",
   "execution_count": 12,
   "id": "74397df4",
   "metadata": {},
   "outputs": [
    {
     "data": {
      "text/plain": [
       "[[9, 2], [3, 8]]"
      ]
     },
     "execution_count": 12,
     "metadata": {},
     "output_type": "execute_result"
    }
   ],
   "source": [
    "mid=[]\n",
    "for dot in dots:\n",
    "    if dot not in [left,right]:\n",
    "        mid.append(dot)\n",
    "mid"
   ]
  },
  {
   "cell_type": "code",
   "execution_count": null,
   "id": "59cf741e",
   "metadata": {},
   "outputs": [
    {
     "data": {
      "text/plain": [
       "[3, 4]"
      ]
     },
     "execution_count": 95,
     "metadata": {},
     "output_type": "execute_result"
    }
   ],
   "source": [
    "max([[3,4], [2,5]])     #  무슨 기준이지?"
   ]
  },
  {
   "cell_type": "markdown",
   "id": "0cbd75af",
   "metadata": {},
   "source": [
    "### 분수의 덧셈\n",
    "\n",
    "## **다시**"
   ]
  },
  {
   "cell_type": "code",
   "execution_count": 30,
   "id": "54f6942c",
   "metadata": {},
   "outputs": [
    {
     "data": {
      "text/plain": [
       "[5, 4]"
      ]
     },
     "execution_count": 30,
     "metadata": {},
     "output_type": "execute_result"
    }
   ],
   "source": [
    "numer1, denom1, numer2, denom2 = map(int, input().split())\n",
    "\n",
    "# 최소공배수 찾기\n",
    "# 두 수의 최대 공약수 찾기\n",
    "# 두 수 denom1, denom2, 최대공약수 GCD\n",
    "# 최소공배수는 GCD * (denom1//GCD) * (denom2//GCD)\n",
    "# 최대공약수를 어떻게 구하느냐.\n",
    "\n",
    "for i in range(denom1+1, 1, -1):\n",
    "    if (denom1 % i == 0) and (denom2 % i == 0):\n",
    "        GCD = i\n",
    "        break\n",
    "LCM = int(GCD * (denom1//GCD) * (denom2/GCD))\n",
    "\n",
    "times1, times2 = int(LCM/denom1), int(LCM/denom2)\n",
    "\n",
    "if denom1*times1 == denom2*times2:\n",
    "    answer = [int(numer1*times1) + int(numer2*times2), int(denom1*times1)]\n",
    "answer"
   ]
  },
  {
   "cell_type": "code",
   "execution_count": null,
   "id": "c8d6d36b",
   "metadata": {},
   "outputs": [],
   "source": [
    "def solution(numer1, denom1, numer2, denom2):\n",
    "    GCD = 1\n",
    "    for i in range(denom1, 0, -1):\n",
    "        if (denom1 % i == 0) and (denom2 % i == 0):\n",
    "            GCD = i\n",
    "            print(GCD)\n",
    "            break\n",
    "    LCM = int(GCD * (denom1/GCD) * (denom2/GCD))\n",
    "\n",
    "    times1, times2 = int(LCM/denom1), int(LCM/denom2)\n",
    "\n",
    "    if denom1*times1 == denom2*times2:\n",
    "        answer = [int(numer1*times1) + int(numer2*times2), int(denom1*times1)]\n",
    "    return answer"
   ]
  },
  {
   "cell_type": "code",
   "execution_count": 52,
   "id": "723455a8",
   "metadata": {},
   "outputs": [],
   "source": [
    "def solution(numer1, denom1, numer2, denom2):\n",
    "    GCD = 1\n",
    "    for i in range(min(denom1,denom2), 0, -1):\n",
    "        if (denom1 % i == 0) and (denom2 % i == 0):\n",
    "            GCD = i\n",
    "            break\n",
    "    LCM = denom1 * denom2//GCD\n",
    "\n",
    "    times1, times2 = LCM//denom1, LCM//denom2\n",
    "\n",
    "    new_newer = numer1 * times1 + numer2 * times2\n",
    "    new_denom = LCM\n",
    "\n",
    "    GCD_new = 1\n",
    "    for i in range(min(new_newer,new_denom), 0, -1):\n",
    "        if (new_newer % i == 0) and (new_denom % i == 0):\n",
    "            GCD_new = i\n",
    "            break\n",
    "\n",
    "    return [new_newer//GCD_new, new_denom//GCD_new]"
   ]
  },
  {
   "cell_type": "code",
   "execution_count": 53,
   "id": "8c999221",
   "metadata": {},
   "outputs": [
    {
     "data": {
      "text/plain": [
       "[29, 6]"
      ]
     },
     "execution_count": 53,
     "metadata": {},
     "output_type": "execute_result"
    }
   ],
   "source": [
    "solution(9,2,1,3)"
   ]
  },
  {
   "cell_type": "markdown",
   "id": "5f03af58",
   "metadata": {},
   "source": [
    "### 겹치는 선분의 길이\n",
    "\n",
    "https://school.programmers.co.kr/learn/courses/30/lessons/120876"
   ]
  },
  {
   "cell_type": "code",
   "execution_count": null,
   "id": "16eb9878",
   "metadata": {},
   "outputs": [
    {
     "data": {
      "text/plain": [
       "2"
      ]
     },
     "execution_count": 2,
     "metadata": {},
     "output_type": "execute_result"
    }
   ],
   "source": [
    "lines = []\n",
    "\n",
    "# 선분 두 개일 때 겹치는 길이\n",
    "\n",
    "a,b,c,d = 0,5,3,9\n",
    "\n",
    "x = [a,b]\n",
    "y = [c,d]\n",
    "\n",
    "lines = [x,y]\n",
    "\n",
    "left, right = min(b,c), max(b,c)\n",
    "\n",
    "answer = right - left\n",
    "\n",
    "# 선분 세 개일 때 겹치는 길이\n",
    "\n",
    "e, f = 0, 0\n",
    "z = [e,f]\n",
    "lines = [x,y,z]\n",
    "\n",
    "left1, left3 = min(a,c,e), max(a,c,e)\n",
    "\n"
   ]
  },
  {
   "cell_type": "code",
   "execution_count": null,
   "id": "7f8a56b2",
   "metadata": {},
   "outputs": [],
   "source": [
    "line1 = [i for i in range(a,b+1)]\n",
    "line2 = [i for i in range(c,d+1)]\n",
    "line3 = [i for i in range(e,f+1)]\n",
    "\n",
    "all = line1+line2+line3\n",
    "for i in range()"
   ]
  },
  {
   "cell_type": "code",
   "execution_count": 27,
   "id": "95add5d8",
   "metadata": {},
   "outputs": [
    {
     "data": {
      "text/plain": [
       "[1, 2, 3, 4, 5]"
      ]
     },
     "execution_count": 27,
     "metadata": {},
     "output_type": "execute_result"
    }
   ],
   "source": [
    "[1,2,3]+[4,5]"
   ]
  },
  {
   "cell_type": "code",
   "execution_count": null,
   "id": "394d162d",
   "metadata": {},
   "outputs": [],
   "source": [
    "(0,6)\n",
    "(2,8)"
   ]
  },
  {
   "cell_type": "markdown",
   "id": "f3c2dbbe",
   "metadata": {},
   "source": [
    "### 주사위 게임\n",
    "\n",
    "https://school.programmers.co.kr/learn/courses/30/lessons/181916"
   ]
  },
  {
   "cell_type": "code",
   "execution_count": null,
   "id": "7d6dab01",
   "metadata": {},
   "outputs": [],
   "source": []
  },
  {
   "cell_type": "code",
   "execution_count": 3,
   "id": "eade305d",
   "metadata": {},
   "outputs": [
    {
     "name": "stdout",
     "output_type": "stream",
     "text": [
      "김시습님 환영합니다!\n",
      "허균님 환영합니다!\n",
      "남영로님 환영합니다!\n",
      "임제님 환영합니다!\n",
      "박지원님 환영합니다!\n"
     ]
    }
   ],
   "source": [
    "number_of_people = 0\n",
    "\n",
    "\n",
    "def increase_user():\n",
    "    global number_of_people\n",
    "    number_of_people += 1\n",
    "\n",
    "\n",
    "def create_user(name, age, address):\n",
    "    global number_of_people\n",
    "    print(f'{name}님 환영합니다!')\n",
    "    user_info = {'name': name, 'age': age, 'address': address}\n",
    "    increase_user()\n",
    "    return user_info\n",
    "\n",
    "\n",
    "\n",
    "name = ['김시습', '허균', '남영로', '임제', '박지원']\n",
    "age = [20, 16, 52, 36, 60]\n",
    "address = ['서울', '강릉', '조선', '나주', '한성부']\n",
    "\n",
    "\n",
    "\n",
    "many_user = list(map(create_user, name,age,address))"
   ]
  },
  {
   "cell_type": "code",
   "execution_count": 7,
   "id": "af3b535e",
   "metadata": {},
   "outputs": [
    {
     "name": "stdout",
     "output_type": "stream",
     "text": [
      "김시습님 환영합니다!\n",
      "허균님 환영합니다!\n",
      "남영로님 환영합니다!\n",
      "임제님 환영합니다!\n",
      "박지원님 환영합니다!\n"
     ]
    }
   ],
   "source": [
    "name = ['김시습', '허균', '남영로', '임제', '박지원']\n",
    "age = [20, 16, 52, 36, 60]\n",
    "address = ['서울', '강릉', '조선', '나주', '한성부']\n",
    "\n",
    "many_user = list(map(create_user, name, age, address))\n",
    "info = map(lambda many_user: many_user.value, name, age)"
   ]
  },
  {
   "cell_type": "code",
   "execution_count": null,
   "id": "6d1aecdf",
   "metadata": {},
   "outputs": [
    {
     "ename": "KeyError",
     "evalue": "0",
     "output_type": "error",
     "traceback": [
      "\u001b[31m---------------------------------------------------------------------------\u001b[39m",
      "\u001b[31mKeyError\u001b[39m                                  Traceback (most recent call last)",
      "\u001b[36mCell\u001b[39m\u001b[36m \u001b[39m\u001b[32mIn[29]\u001b[39m\u001b[32m, line 1\u001b[39m\n\u001b[32m----> \u001b[39m\u001b[32m1\u001b[39m \u001b[38;5;28;43mlist\u001b[39;49m\u001b[43m(\u001b[49m\u001b[38;5;28;43mmap\u001b[39;49m\u001b[43m(\u001b[49m\u001b[38;5;28;43;01mlambda\u001b[39;49;00m\u001b[43m \u001b[49m\u001b[43mx\u001b[49m\u001b[43m:\u001b[49m\u001b[43m \u001b[49m\u001b[43mx\u001b[49m\u001b[43m[\u001b[49m\u001b[32;43m0\u001b[39;49m\u001b[43m]\u001b[49m\u001b[43m,\u001b[49m\u001b[43m \u001b[49m\u001b[43mmany_user\u001b[49m\u001b[43m)\u001b[49m\u001b[43m)\u001b[49m\n",
      "\u001b[36mCell\u001b[39m\u001b[36m \u001b[39m\u001b[32mIn[29]\u001b[39m\u001b[32m, line 1\u001b[39m, in \u001b[36m<lambda>\u001b[39m\u001b[34m(x)\u001b[39m\n\u001b[32m----> \u001b[39m\u001b[32m1\u001b[39m \u001b[38;5;28mlist\u001b[39m(\u001b[38;5;28mmap\u001b[39m(\u001b[38;5;28;01mlambda\u001b[39;00m x: \u001b[43mx\u001b[49m\u001b[43m[\u001b[49m\u001b[32;43m0\u001b[39;49m\u001b[43m]\u001b[49m, many_user))\n",
      "\u001b[31mKeyError\u001b[39m: 0"
     ]
    }
   ],
   "source": [
    "map(lambda x: x[0], many_user)"
   ]
  },
  {
   "cell_type": "code",
   "execution_count": null,
   "id": "c230aaba",
   "metadata": {},
   "outputs": [],
   "source": [
    "use = map(map(dict,many_user),)"
   ]
  },
  {
   "cell_type": "code",
   "execution_count": 47,
   "id": "7b6ce436",
   "metadata": {},
   "outputs": [
    {
     "name": "stdout",
     "output_type": "stream",
     "text": [
      "['김시습', '허균', '남영로', '임제', '박지원']\n"
     ]
    }
   ],
   "source": [
    "b = list(map(lambda x: x['name'], many_user))\n",
    "print(b)"
   ]
  },
  {
   "cell_type": "code",
   "execution_count": 49,
   "id": "eabf1197",
   "metadata": {},
   "outputs": [
    {
     "name": "stdout",
     "output_type": "stream",
     "text": [
      "김시습님 환영합니다!\n",
      "허균님 환영합니다!\n",
      "남영로님 환영합니다!\n",
      "임제님 환영합니다!\n",
      "박지원님 환영합니다!\n",
      "[{'name': '김시습', 'age': 20, 'address': '서울'}, {'name': '허균', 'age': 16, 'address': '강릉'}, {'name': '남영로', 'age': 52, 'address': '조선'}, {'name': '임제', 'age': 36, 'address': '나주'}, {'name': '박지원', 'age': 60, 'address': '한성부'}]\n"
     ]
    }
   ],
   "source": [
    "def create_user(name, age, address):\n",
    "    global number_of_people\n",
    "    print(f'{name}님 환영합니다!')\n",
    "    user_info = {'name': name, 'age': age, 'address': address}\n",
    "#    increase_user()\n",
    "    return user_info\n",
    "\n",
    "many_user = list(map(create_user, name, age, address))\n",
    "print(many_user)"
   ]
  },
  {
   "cell_type": "code",
   "execution_count": 51,
   "id": "0b6d921f",
   "metadata": {},
   "outputs": [
    {
     "data": {
      "text/plain": [
       "[{'name': '김시습', 'age': 20},\n",
       " {'name': '허균', 'age': 16},\n",
       " {'name': '남영로', 'age': 52},\n",
       " {'name': '임제', 'age': 36},\n",
       " {'name': '박지원', 'age': 60}]"
      ]
     },
     "execution_count": 51,
     "metadata": {},
     "output_type": "execute_result"
    }
   ],
   "source": [
    "def func(user):\n",
    "    return {'name': user['name'], 'age': user['age']}\n",
    "list(map(func, many_user))"
   ]
  },
  {
   "cell_type": "code",
   "execution_count": 54,
   "id": "5c20d6d3",
   "metadata": {},
   "outputs": [
    {
     "data": {
      "text/plain": [
       "[{'name': '김시습', 'age': 20},\n",
       " {'name': '허균', 'age': 16},\n",
       " {'name': '남영로', 'age': 52},\n",
       " {'name': '임제', 'age': 36},\n",
       " {'name': '박지원', 'age': 60}]"
      ]
     },
     "execution_count": 54,
     "metadata": {},
     "output_type": "execute_result"
    }
   ],
   "source": [
    "list(map(lambda user: {'name': user['name'], 'age': user['age']}, many_user))"
   ]
  },
  {
   "cell_type": "code",
   "execution_count": 55,
   "id": "8958eb10",
   "metadata": {},
   "outputs": [
    {
     "data": {
      "text/plain": [
       "[['김시습', 20], ['허균', 16], ['남영로', 52], ['임제', 36], ['박지원', 60]]"
      ]
     },
     "execution_count": 55,
     "metadata": {},
     "output_type": "execute_result"
    }
   ],
   "source": [
    "list(map(lambda user: [user['name'],user['age']],map(lambda user: {'name': user['name'], 'age': user['age']}, many_user)))"
   ]
  },
  {
   "cell_type": "code",
   "execution_count": 57,
   "id": "a4068a43",
   "metadata": {},
   "outputs": [],
   "source": [
    "info = list(map(lambda user: {'name': user['name'], 'age': user['age']}, many_user))"
   ]
  },
  {
   "cell_type": "code",
   "execution_count": 60,
   "id": "6e66659c",
   "metadata": {},
   "outputs": [
    {
     "data": {
      "text/plain": [
       "20"
      ]
     },
     "execution_count": 60,
     "metadata": {},
     "output_type": "execute_result"
    }
   ],
   "source": [
    "info[0]['age']"
   ]
  }
 ],
 "metadata": {
  "kernelspec": {
   "display_name": "Python 3",
   "language": "python",
   "name": "python3"
  },
  "language_info": {
   "codemirror_mode": {
    "name": "ipython",
    "version": 3
   },
   "file_extension": ".py",
   "mimetype": "text/x-python",
   "name": "python",
   "nbconvert_exporter": "python",
   "pygments_lexer": "ipython3",
   "version": "3.11.9"
  }
 },
 "nbformat": 4,
 "nbformat_minor": 5
}
