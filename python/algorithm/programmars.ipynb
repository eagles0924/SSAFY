{
 "cells": [
  {
   "cell_type": "markdown",
   "id": "571f9b2f",
   "metadata": {},
   "source": [
    "# Lv 0"
   ]
  },
  {
   "cell_type": "markdown",
   "id": "34fe55a1",
   "metadata": {},
   "source": [
    "### 옹알이\n",
    "\n",
    "https://school.programmers.co.kr/learn/courses/30/lessons/120956"
   ]
  },
  {
   "cell_type": "code",
   "execution_count": 58,
   "id": "95c33b62",
   "metadata": {},
   "outputs": [
    {
     "name": "stdout",
     "output_type": "stream",
     "text": [
      "# ayaye aya\n",
      "_ye\n",
      "# _ye ye\n",
      "__\n",
      "# __ woo\n",
      "# __ ma\n",
      "# uuuma aya\n",
      "# uuuma ye\n",
      "# uuuma woo\n",
      "# uuuma ma\n",
      "uuu_\n",
      "# ye aya\n",
      "# ye ye\n",
      "_\n",
      "# _ woo\n",
      "# _ ma\n",
      "# yemawoo aya\n",
      "# yemawoo ye\n",
      "_mawoo\n",
      "# _mawoo woo\n",
      "_ma_\n",
      "# _ma_ ma\n",
      "___\n",
      "# ayaa aya\n",
      "_a\n",
      "# _a ye\n",
      "# _a woo\n",
      "# _a ma\n",
      "# yemaye aya\n",
      "# yemaye ye\n",
      "_ma_\n",
      "# _ma_ woo\n",
      "# _ma_ ma\n",
      "___\n"
     ]
    }
   ],
   "source": [
    "can_tell = ['aya','ye','woo','ma']\n",
    "babbling = [\"ayaye\", \"uuuma\", \"ye\", \"yemawoo\", \"ayaa\", \"yemaye\"]\n",
    "cnt=0\n",
    "for word in babbling:\n",
    "    for ong in can_tell:\n",
    "        print('#',word, ong)\n",
    "        if ong in word:\n",
    "            # 해당 문자열 지워\n",
    "            word = word.replace(ong,'_')\n",
    "            print(word)\n",
    "    word = word.replace('_','')\n",
    "    if len(word) == 0:\n",
    "        cnt += 1"
   ]
  },
  {
   "cell_type": "markdown",
   "id": "f0e6b433",
   "metadata": {},
   "source": [
    "다른 사람 답안"
   ]
  },
  {
   "cell_type": "code",
   "execution_count": null,
   "id": "ff2d72f3",
   "metadata": {},
   "outputs": [
    {
     "data": {
      "text/plain": [
       "3"
      ]
     },
     "execution_count": 51,
     "metadata": {},
     "output_type": "execute_result"
    }
   ],
   "source": [
    "import re\n",
    "\n",
    "def solution(babbling):\n",
    "    regex = re.compile('^(aya|ye|woo|ma)+$')\n",
    "    print(regex)\n",
    "    cnt = 0\n",
    "    for e in babbling:\n",
    "        if regex.match(e):\n",
    "            cnt += 1\n",
    "    return cnt"
   ]
  },
  {
   "cell_type": "markdown",
   "id": "44fb47dd",
   "metadata": {},
   "source": [
    "### 다음에 올 숫자\n",
    "\n",
    "https://school.programmers.co.kr/learn/courses/30/lessons/120924"
   ]
  },
  {
   "cell_type": "code",
   "execution_count": 62,
   "id": "165fec36",
   "metadata": {},
   "outputs": [
    {
     "data": {
      "text/plain": [
       "16"
      ]
     },
     "execution_count": 62,
     "metadata": {},
     "output_type": "execute_result"
    }
   ],
   "source": [
    "common = [2, 4, 8]\n",
    "\n",
    "minus_1 = common[-1] - common[-2]\n",
    "minus_2 = common[-2] - common[-3]\n",
    "divide_1 = common[-1] / common[-2]\n",
    "divide_2 = common[-2] / common[-3]\n",
    "\n",
    "if minus_1 == minus_2:\n",
    "    answer = common[-1] + minus_1\n",
    "elif divide_1 == divide_2:\n",
    "    answer = common[-1] * divide_1\n",
    "int(answer)"
   ]
  },
  {
   "cell_type": "code",
   "execution_count": null,
   "id": "2c887eb0",
   "metadata": {},
   "outputs": [],
   "source": [
    "common = []\n",
    "\n",
    "def solution(common):\n",
    "    minus_1 = common[-1] - common[-2]\n",
    "    minus_2 = common[-2] - common[-3]\n",
    "    # 분모가 0이 되는 경우는 계산에서 오류가 날 것임. (등차수열에서 중간에 0이 끼는 경우)\n",
    "    try:\n",
    "        divide_1 = common[-1] / common[-2]\n",
    "        divide_2 = common[-2] / common[-3]\n",
    "    except:\n",
    "        pass\n",
    "    if minus_1 == minus_2:\n",
    "        answer = common[-1] + minus_1\n",
    "    elif divide_1 == divide_2:\n",
    "        answer = common[-1] * divide_1\n",
    "    return int(answer)"
   ]
  },
  {
   "cell_type": "code",
   "execution_count": 88,
   "id": "6a6c317a",
   "metadata": {},
   "outputs": [
    {
     "name": "stdout",
     "output_type": "stream",
     "text": [
      "1 2 3\n"
     ]
    }
   ],
   "source": [
    "################### 변수 선언을 이렇게 할 수도 있다!!!\n",
    "\n",
    "a, b, c = [1, 2, 3]\n",
    "print(a, b, c)"
   ]
  },
  {
   "cell_type": "code",
   "execution_count": null,
   "id": "562d5f2b",
   "metadata": {},
   "outputs": [],
   "source": [
    "if 0"
   ]
  },
  {
   "cell_type": "markdown",
   "id": "3ee0557e",
   "metadata": {},
   "source": [
    "### 연속된 수의 합\n",
    "\n",
    "https://school.programmers.co.kr/learn/courses/30/lessons/120923"
   ]
  },
  {
   "cell_type": "code",
   "execution_count": 85,
   "id": "6401d401",
   "metadata": {},
   "outputs": [
    {
     "data": {
      "text/plain": [
       "[2, 3, 4, 5]"
      ]
     },
     "execution_count": 85,
     "metadata": {},
     "output_type": "execute_result"
    }
   ],
   "source": [
    "num = 4\n",
    "total = 14\n",
    "answer = []\n",
    "median = int(total // num)\n",
    "if num % 2 != 0:\n",
    "    for i in range(1,num//2+1):\n",
    "        answer.append(median + i)\n",
    "        answer.append(median - i)\n",
    "    answer.append(median)\n",
    "    answer.sort()\n",
    "if num % 2 == 0:\n",
    "    for i in range(1,num//2):\n",
    "        answer.append(median + i)\n",
    "        answer.append(median - i)\n",
    "    answer.append(median)\n",
    "    answer.sort()\n",
    "    answer.append(answer[-1]+1)\n",
    "answer"
   ]
  },
  {
   "cell_type": "code",
   "execution_count": null,
   "id": "629a2d15",
   "metadata": {},
   "outputs": [
    {
     "data": {
      "text/plain": [
       "3.0"
      ]
     },
     "execution_count": 71,
     "metadata": {},
     "output_type": "execute_result"
    }
   ],
   "source": [
    "int(14//4)"
   ]
  },
  {
   "cell_type": "markdown",
   "id": "684ee060",
   "metadata": {},
   "source": [
    "### 종이 자르기\n",
    "\n",
    "https://school.programmers.co.kr/learn/courses/30/lessons/120922"
   ]
  },
  {
   "cell_type": "code",
   "execution_count": null,
   "id": "404133cd",
   "metadata": {},
   "outputs": [],
   "source": [
    "m, n = map(int, input())\n",
    "if (m == 1) and (n == 1):\n",
    "    answer = 0\n",
    "else:\n",
    "    answer = m * n - 1"
   ]
  },
  {
   "cell_type": "markdown",
   "id": "e3a0c337",
   "metadata": {},
   "source": [
    "### 평행\n",
    "\n",
    "https://school.programmers.co.kr/learn/courses/30/lessons/120875"
   ]
  },
  {
   "cell_type": "code",
   "execution_count": 104,
   "id": "1c6bda57",
   "metadata": {},
   "outputs": [
    {
     "name": "stdout",
     "output_type": "stream",
     "text": [
      "[1, 4] [11, 6]\n"
     ]
    }
   ],
   "source": [
    "dots = [[1,4], [9,2], [3,8], [11,6]]\n",
    "\n",
    "for i, x in enumerate(dots):\n",
    "    left = dots[0]\n",
    "    right = dots[0]\n",
    "    if x[0] < left[0]:\n",
    "        left = x\n",
    "    if x[0] > right[0]:\n",
    "        right = x\n",
    "print(left, right)"
   ]
  },
  {
   "cell_type": "code",
   "execution_count": 106,
   "id": "74397df4",
   "metadata": {},
   "outputs": [
    {
     "data": {
      "text/plain": [
       "[3, 8]"
      ]
     },
     "execution_count": 106,
     "metadata": {},
     "output_type": "execute_result"
    }
   ],
   "source": [
    "for dot in dots:\n",
    "    if dot not in [left,right]:\n",
    "        a = dot\n",
    "a"
   ]
  },
  {
   "cell_type": "code",
   "execution_count": null,
   "id": "59cf741e",
   "metadata": {},
   "outputs": [
    {
     "data": {
      "text/plain": [
       "[3, 4]"
      ]
     },
     "execution_count": 95,
     "metadata": {},
     "output_type": "execute_result"
    }
   ],
   "source": [
    "max([[3,4], [2,5]])     #  무슨 기준이지?"
   ]
  },
  {
   "cell_type": "markdown",
   "id": "0cbd75af",
   "metadata": {},
   "source": [
    "x축이든 y축인든"
   ]
  },
  {
   "cell_type": "code",
   "execution_count": 97,
   "id": "1dee981e",
   "metadata": {},
   "outputs": [
    {
     "data": {
      "text/plain": [
       "[11, 6]"
      ]
     },
     "execution_count": 97,
     "metadata": {},
     "output_type": "execute_result"
    }
   ],
   "source": [
    "[[1,4], [9,2], [3,8], [11,6]].pop(3)"
   ]
  },
  {
   "cell_type": "code",
   "execution_count": null,
   "id": "c24f7728",
   "metadata": {},
   "outputs": [
    {
     "ename": "TypeError",
     "evalue": "cannot unpack non-iterable int object",
     "output_type": "error",
     "traceback": [
      "\u001b[31m---------------------------------------------------------------------------\u001b[39m",
      "\u001b[31mTypeError\u001b[39m                                 Traceback (most recent call last)",
      "\u001b[36mCell\u001b[39m\u001b[36m \u001b[39m\u001b[32mIn[108]\u001b[39m\u001b[32m, line 1\u001b[39m\n\u001b[32m----> \u001b[39m\u001b[32m1\u001b[39m a ,b,c = \u001b[32m1\u001b[39m\n",
      "\u001b[31mTypeError\u001b[39m: cannot unpack non-iterable int object"
     ]
    }
   ],
   "source": [
    "a = "
   ]
  },
  {
   "cell_type": "code",
   "execution_count": null,
   "id": "a8698499",
   "metadata": {},
   "outputs": [],
   "source": []
  }
 ],
 "metadata": {
  "kernelspec": {
   "display_name": "Python 3",
   "language": "python",
   "name": "python3"
  },
  "language_info": {
   "codemirror_mode": {
    "name": "ipython",
    "version": 3
   },
   "file_extension": ".py",
   "mimetype": "text/x-python",
   "name": "python",
   "nbconvert_exporter": "python",
   "pygments_lexer": "ipython3",
   "version": "3.11.9"
  }
 },
 "nbformat": 4,
 "nbformat_minor": 5
}
