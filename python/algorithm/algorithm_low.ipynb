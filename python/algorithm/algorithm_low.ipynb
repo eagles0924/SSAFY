{
 "cells": [
  {
   "cell_type": "code",
   "execution_count": 1,
   "id": "3eabb2b4",
   "metadata": {},
   "outputs": [],
   "source": [
    "import os\n",
    "import numpy as np\n",
    "import pandas as pd"
   ]
  },
  {
   "cell_type": "code",
   "execution_count": null,
   "id": "cdcbdd06",
   "metadata": {},
   "outputs": [
    {
     "name": "stdout",
     "output_type": "stream",
     "text": [
      "#1 30\n",
      "#2 63\n"
     ]
    }
   ],
   "source": [
    "test_num = int(input())\n",
    "\n",
    "for t in range(test_num):\n",
    "    n, m = map(int, input().split())\n",
    "    a = list(map(int, input().split()))\n",
    "    b = list(map(int, input().split()))\n",
    "\n",
    "    if len(a) < len(b):\n",
    "        best = -10000\n",
    "        for j in range(len(b)-len(a)+1):\n",
    "            s = 0\n",
    "            s += sum([a[i]*b[i+j] for i in range(len(a))])\n",
    "            if s > best:\n",
    "                best = s\n",
    "    else:\n",
    "        best = -10000\n",
    "        for j in range(len(a)-len(b)+1):\n",
    "            s = 0\n",
    "            s += sum([b[i]*a[i+j] for i in range(len(b))])\n",
    "            if s > best:\n",
    "                best = s\n",
    "        \n",
    "    print(f\"#{t+1} {best}\")"
   ]
  },
  {
   "cell_type": "code",
   "execution_count": 3,
   "id": "26ae3362",
   "metadata": {},
   "outputs": [
    {
     "name": "stdout",
     "output_type": "stream",
     "text": [
      "#1 30\n",
      "#2 63\n"
     ]
    }
   ],
   "source": [
    "test_num = int(input())\n",
    "\n",
    "for t in range(test_num):\n",
    "    n, m = map(int, input().split())\n",
    "    a = list(map(int, input().split()))\n",
    "    b = list(map(int, input().split()))\n",
    "\n",
    "    if len(a) > len(b):\n",
    "        a, b = b, a\n",
    "    best = -10000\n",
    "    for j in range(len(b)-len(a)+1):\n",
    "        s = 0\n",
    "        s += sum([a[i]*b[i+j] for i in range(len(a))])\n",
    "        if s > best:\n",
    "            best = s\n",
    "    print(f\"#{t+1} {best}\")"
   ]
  },
  {
   "cell_type": "code",
   "execution_count": 31,
   "id": "4d5563ac",
   "metadata": {},
   "outputs": [
    {
     "name": "stdout",
     "output_type": "stream",
     "text": [
      "[3, 30, -21]\n",
      "[6, -35, 15]\n",
      "[-7, 25, 12]\n"
     ]
    }
   ],
   "source": [
    "for j in range(len(b)-len(a)+1):\n",
    "    l = [a[i]*b[i+j] for i in range(len(a))]\n",
    "    print(l)"
   ]
  },
  {
   "cell_type": "code",
   "execution_count": 32,
   "id": "bf8a64f2",
   "metadata": {},
   "outputs": [
    {
     "ename": "TypeError",
     "evalue": "'int' object is not callable",
     "output_type": "error",
     "traceback": [
      "\u001b[31m---------------------------------------------------------------------------\u001b[39m",
      "\u001b[31mTypeError\u001b[39m                                 Traceback (most recent call last)",
      "\u001b[36mCell\u001b[39m\u001b[36m \u001b[39m\u001b[32mIn[32]\u001b[39m\u001b[32m, line 1\u001b[39m\n\u001b[32m----> \u001b[39m\u001b[32m1\u001b[39m \u001b[38;5;28;43msum\u001b[39;49m\u001b[43m(\u001b[49m\u001b[43m[\u001b[49m\u001b[43m-\u001b[49m\u001b[32;43m7\u001b[39;49m\u001b[43m,\u001b[49m\u001b[43m \u001b[49m\u001b[32;43m25\u001b[39;49m\u001b[43m,\u001b[49m\u001b[43m \u001b[49m\u001b[32;43m12\u001b[39;49m\u001b[43m]\u001b[49m\u001b[43m)\u001b[49m\n",
      "\u001b[31mTypeError\u001b[39m: 'int' object is not callable"
     ]
    }
   ],
   "source": [
    "sum([-7, 25, 12])"
   ]
  },
  {
   "cell_type": "code",
   "execution_count": 36,
   "id": "930c9d70",
   "metadata": {},
   "outputs": [
    {
     "ename": "TypeError",
     "evalue": "'int' object is not callable",
     "output_type": "error",
     "traceback": [
      "\u001b[31m---------------------------------------------------------------------------\u001b[39m",
      "\u001b[31mTypeError\u001b[39m                                 Traceback (most recent call last)",
      "\u001b[36mCell\u001b[39m\u001b[36m \u001b[39m\u001b[32mIn[36]\u001b[39m\u001b[32m, line 1\u001b[39m\n\u001b[32m----> \u001b[39m\u001b[32m1\u001b[39m r = \u001b[38;5;28;43msum\u001b[39;49m\u001b[43m(\u001b[49m\u001b[43m[\u001b[49m\u001b[43m-\u001b[49m\u001b[32;43m7\u001b[39;49m\u001b[43m,\u001b[49m\u001b[43m \u001b[49m\u001b[32;43m25\u001b[39;49m\u001b[43m,\u001b[49m\u001b[43m \u001b[49m\u001b[32;43m12\u001b[39;49m\u001b[43m]\u001b[49m\u001b[43m)\u001b[49m\n",
      "\u001b[31mTypeError\u001b[39m: 'int' object is not callable"
     ]
    }
   ],
   "source": [
    "r = sum([-7, 25, 12])"
   ]
  },
  {
   "cell_type": "markdown",
   "id": "46adacdc",
   "metadata": {},
   "source": [
    "### 7/16"
   ]
  },
  {
   "cell_type": "code",
   "execution_count": null,
   "id": "193e7620",
   "metadata": {},
   "outputs": [],
   "source": [
    "import sys\n",
    "sys.stdin = open('D:/vscode/sample.txt')\n",
    "    "
   ]
  },
  {
   "cell_type": "code",
   "execution_count": 24,
   "id": "d239f4fe",
   "metadata": {},
   "outputs": [
    {
     "data": {
      "text/plain": [
       "['6 9 4 7 0 5\\n',\n",
       " '8 9 9 2 6 5\\n',\n",
       " '6 8 5 4 9 8\\n',\n",
       " '2 2 7 7 8 4\\n',\n",
       " '7 5 1 9 7 9\\n',\n",
       " '8 9 3 9 7 6']"
      ]
     },
     "execution_count": 24,
     "metadata": {},
     "output_type": "execute_result"
    }
   ],
   "source": [
    "sys.stdin.readlines()"
   ]
  },
  {
   "cell_type": "markdown",
   "id": "c3181d74",
   "metadata": {},
   "source": [
    "### 파리퇴치"
   ]
  },
  {
   "cell_type": "markdown",
   "id": "69062d74",
   "metadata": {},
   "source": [
    "방법 1. 방향벡터 지정하여 풀기"
   ]
  },
  {
   "cell_type": "code",
   "execution_count": null,
   "id": "bf0a2940",
   "metadata": {},
   "outputs": [],
   "source": [
    "test_case = int(input())\n",
    "N, M = map(int, input().split())\n",
    "\n",
    "test_matrix = []\n",
    "for n in range(N):\n",
    "    test_matrix.append(list(map(int, input().split())))\n",
    "\n",
    "cross_x = [1,0,-1,0]\n",
    "cross_y = [0,-1,0,1]\n",
    "x_x = [1,1,-1,-1]\n",
    "x_y = [1,-1,-1,1]\n",
    "\n",
    "# cross\n",
    "def cross_sum(n):\n",
    "    s = 0\n",
    "    for i in range(n):\n",
    "        for j in range(n):\n",
    "            s += test_matrix[i][j]"
   ]
  },
  {
   "cell_type": "code",
   "execution_count": null,
   "id": "fbb222be",
   "metadata": {},
   "outputs": [],
   "source": []
  },
  {
   "cell_type": "markdown",
   "id": "8b307e55",
   "metadata": {},
   "source": [
    "방법 2. 내 방식대로"
   ]
  },
  {
   "cell_type": "code",
   "execution_count": null,
   "id": "97bda519",
   "metadata": {},
   "outputs": [],
   "source": [
    "test_case = int(input())\n",
    "N, M = map(int, input().split())\n",
    "\n",
    "test_matrix = []\n",
    "for n in range(N):\n",
    "    test_matrix.append(list(map(int, input().split())))\n",
    "\n",
    "def cross_sum(n):\n",
    "    s = 0\n",
    "    for i in range(n):\n",
    "        for j in range(n):\n",
    "            s += test_matrix[i][j]\n",
    "    return s\n",
    "\n",
    "def cross_x(n):\n",
    "    return s\n",
    "\n"
   ]
  },
  {
   "cell_type": "code",
   "execution_count": 27,
   "id": "3283dada",
   "metadata": {},
   "outputs": [
    {
     "data": {
      "text/plain": [
       "[[1, 3, 5], [2, 4, 6], [3, 5, 7]]"
      ]
     },
     "execution_count": 27,
     "metadata": {},
     "output_type": "execute_result"
    }
   ],
   "source": [
    "test_matrix=[]\n",
    "for n in range(3):\n",
    "    test_matrix.append(list(map(int, input().split())))\n",
    "test_matrix"
   ]
  },
  {
   "cell_type": "code",
   "execution_count": null,
   "id": "e2955137",
   "metadata": {},
   "outputs": [],
   "source": []
  }
 ],
 "metadata": {
  "kernelspec": {
   "display_name": "Python 3",
   "language": "python",
   "name": "python3"
  },
  "language_info": {
   "codemirror_mode": {
    "name": "ipython",
    "version": 3
   },
   "file_extension": ".py",
   "mimetype": "text/x-python",
   "name": "python",
   "nbconvert_exporter": "python",
   "pygments_lexer": "ipython3",
   "version": "3.11.9"
  }
 },
 "nbformat": 4,
 "nbformat_minor": 5
}
